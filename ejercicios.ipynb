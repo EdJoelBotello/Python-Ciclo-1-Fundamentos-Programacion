{
 "cells": [
  {
   "cell_type": "markdown",
   "metadata": {},
   "source": [
    "# Ejercicios propuestos"
   ]
  },
  {
   "cell_type": "markdown",
   "metadata": {},
   "source": [
    "### Ejercicio 1\n",
    "\n",
    "José David es un muchacho que desea comprar una maleta de $105000. \n",
    "El tiene los siguientes ingresos: en la casa le dieron $6000 para sus gastos semanales durante 4 semanas; por atender una tienda tres veces recibió $12000. También a su hermano le lavó la piscina por $13000.\n",
    "¿Cuánto le falta a José David para comprar la maleta?\n"
   ]
  },
  {
   "cell_type": "code",
   "execution_count": 1,
   "metadata": {},
   "outputs": [
    {
     "name": "stdout",
     "output_type": "stream",
     "text": [
      "a Jose David, le hace falta la cantidad de $ 74000  para comprar la maleta\n"
     ]
    }
   ],
   "source": [
    "costo_maleta=105000\n",
    "ing_casa=6000\n",
    "ing_tienda=12000\n",
    "ing_piscina=13000\n",
    "faltante=costo_maleta-ing_casa-ing_piscina-ing_tienda\n",
    "print(\"a Jose David, le hace falta la cantidad de $\",faltante,\" para comprar la maleta\")"
   ]
  },
  {
   "cell_type": "markdown",
   "metadata": {},
   "source": [
    "  ### Ejercicio 2\n",
    "  Hallar el perímetro de un rectángulo, obteniendo los valores de los lados desde el usuario"
   ]
  },
  {
   "cell_type": "code",
   "execution_count": 3,
   "metadata": {},
   "outputs": [
    {
     "name": "stdout",
     "output_type": "stream",
     "text": [
      "el perimetro del rectangulo es de:  6.0\n"
     ]
    }
   ],
   "source": [
    "largo=float(input(\"ingrese el largo del rectangulo \"))\n",
    "ancho=float(input(\"ingrese el ancho del rectangulo \"))\n",
    "perimetro=(2*largo+2*ancho)\n",
    "print(\"el perimetro del rectangulo es de: \", perimetro)"
   ]
  }
 ],
 "metadata": {
  "interpreter": {
   "hash": "ecf692a57d25ce2e9c36ee4bfd0c74b739bffc9771b8483c93bb91a271af2e18"
  },
  "kernelspec": {
   "display_name": "Python 3.10.4 64-bit",
   "language": "python",
   "name": "python3"
  },
  "language_info": {
   "codemirror_mode": {
    "name": "ipython",
    "version": 3
   },
   "file_extension": ".py",
   "mimetype": "text/x-python",
   "name": "python",
   "nbconvert_exporter": "python",
   "pygments_lexer": "ipython3",
   "version": "3.10.4"
  },
  "orig_nbformat": 4
 },
 "nbformat": 4,
 "nbformat_minor": 2
}
